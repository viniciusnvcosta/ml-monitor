{
 "cells": [
  {
   "cell_type": "code",
   "execution_count": 18,
   "id": "a608faf4",
   "metadata": {},
   "outputs": [],
   "source": [
    "import os\n",
    "import pandas as pd\n",
    "import numpy as np\n",
    "from lightfm import LightFM\n",
    "from sklearn.metrics import precision_score, recall_score, f1_score, average_precision_score, ndcg_score"
   ]
  },
  {
   "cell_type": "code",
   "execution_count": 19,
   "id": "41adf0d6",
   "metadata": {},
   "outputs": [],
   "source": [
    "num_users = 100\n",
    "num_items = 50\n",
    "num_recommendations = 10\n",
    "\n",
    "y_true = np.random.randint(0, 2, size=(num_users, num_items))\n",
    "y_pred = np.random.randint(0, 2, size=(num_users, num_items))"
   ]
  },
  {
   "cell_type": "code",
   "execution_count": 39,
   "id": "5ce98cc5",
   "metadata": {},
   "outputs": [
    {
     "data": {
      "text/plain": [
       "array([[1, 1, 1, ..., 1, 1, 1],\n",
       "       [0, 1, 1, ..., 0, 1, 1],\n",
       "       [1, 0, 0, ..., 0, 0, 0],\n",
       "       ...,\n",
       "       [1, 1, 0, ..., 1, 1, 1],\n",
       "       [1, 1, 0, ..., 0, 0, 0],\n",
       "       [1, 0, 0, ..., 1, 1, 0]])"
      ]
     },
     "execution_count": 39,
     "metadata": {},
     "output_type": "execute_result"
    }
   ],
   "source": [
    "y_true"
   ]
  },
  {
   "cell_type": "code",
   "execution_count": 40,
   "id": "c18f4734",
   "metadata": {},
   "outputs": [
    {
     "data": {
      "text/plain": [
       "array([[1, 1, 0, ..., 0, 1, 0],\n",
       "       [0, 1, 1, ..., 0, 1, 0],\n",
       "       [1, 1, 0, ..., 0, 1, 1],\n",
       "       ...,\n",
       "       [0, 1, 0, ..., 0, 1, 0],\n",
       "       [1, 0, 0, ..., 0, 1, 1],\n",
       "       [0, 1, 0, ..., 1, 0, 0]])"
      ]
     },
     "execution_count": 40,
     "metadata": {},
     "output_type": "execute_result"
    }
   ],
   "source": [
    "y_pred"
   ]
  },
  {
   "cell_type": "code",
   "execution_count": 22,
   "id": "3a2a132d",
   "metadata": {},
   "outputs": [],
   "source": [
    "def calculate_metrics(y_true, y_pred):\n",
    "    rec_metrics = {\n",
    "        \"precision\": precision_score(y_true, y_pred, average='macro'),\n",
    "        \"recall\": recall_score(y_true, y_pred, average='macro'),\n",
    "        \"f1-score\": f1_score(y_true, y_pred, average='macro'),\n",
    "        \"map\": average_precision_score(y_true, y_pred, average='macro'),\n",
    "        \"ndcg\": ndcg_score(y_true, y_pred, k=10),\n",
    "    }\n",
    "    return rec_metrics"
   ]
  },
  {
   "cell_type": "code",
   "execution_count": 23,
   "id": "482e21bf",
   "metadata": {},
   "outputs": [],
   "source": [
    "aa = calculate_metrics(y_true, y_pred)"
   ]
  },
  {
   "cell_type": "code",
   "execution_count": 41,
   "id": "b6162160",
   "metadata": {},
   "outputs": [
    {
     "data": {
      "text/plain": [
       "{'precision': 0.5192434329434558,\n",
       " 'recall': 0.5307750667859957,\n",
       " 'f1-score': 0.5229080952856036,\n",
       " 'map': 0.5158762740225611,\n",
       " 'ndcg': 0.5169151165985122}"
      ]
     },
     "execution_count": 41,
     "metadata": {},
     "output_type": "execute_result"
    }
   ],
   "source": [
    "aa"
   ]
  },
  {
   "cell_type": "code",
   "execution_count": 27,
   "id": "d02f98dd",
   "metadata": {},
   "outputs": [],
   "source": [
    "df_true = pd.DataFrame(y_true)\n",
    "df_pred = pd.DataFrame(y_pred)"
   ]
  },
  {
   "cell_type": "code",
   "execution_count": 30,
   "id": "8bd8480d",
   "metadata": {},
   "outputs": [],
   "source": [
    "y_true_original = df_true.to_numpy()\n",
    "y_pred_original = df_pred.to_numpy()"
   ]
  },
  {
   "cell_type": "code",
   "execution_count": 45,
   "id": "33d47838",
   "metadata": {},
   "outputs": [],
   "source": [
    "df_true.to_parquet('s3://samples-scora-monitor/minerador/sebraepe/silver/y_true.parquet')"
   ]
  },
  {
   "cell_type": "code",
   "execution_count": 46,
   "id": "bb5c2189",
   "metadata": {},
   "outputs": [],
   "source": [
    "df_pred.to_parquet('s3://samples-scora-monitor/minerador/sebraepe/gold/y_pred.parquet')"
   ]
  },
  {
   "cell_type": "code",
   "execution_count": null,
   "id": "f5c4a507",
   "metadata": {},
   "outputs": [],
   "source": []
  }
 ],
 "metadata": {
  "kernelspec": {
   "display_name": "Python 3 (ipykernel)",
   "language": "python",
   "name": "python3"
  },
  "language_info": {
   "codemirror_mode": {
    "name": "ipython",
    "version": 3
   },
   "file_extension": ".py",
   "mimetype": "text/x-python",
   "name": "python",
   "nbconvert_exporter": "python",
   "pygments_lexer": "ipython3",
   "version": "3.9.16"
  }
 },
 "nbformat": 4,
 "nbformat_minor": 5
}

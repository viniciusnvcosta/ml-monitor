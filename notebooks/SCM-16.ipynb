{
 "cells": [
  {
   "cell_type": "code",
   "execution_count": 1,
   "id": "e365655e",
   "metadata": {},
   "outputs": [],
   "source": [
    "# import mlflow\n",
    "import pandas as pd"
   ]
  },
  {
   "cell_type": "code",
   "execution_count": 2,
   "id": "039f5df6",
   "metadata": {},
   "outputs": [],
   "source": [
    "mlflow.set_tracking_uri(\"http://127.0.0.1:5000\")"
   ]
  },
  {
   "cell_type": "code",
   "execution_count": 3,
   "id": "686fe686",
   "metadata": {},
   "outputs": [
    {
     "data": {
      "text/plain": [
       "<Experiment: artifact_location='mlflow-artifacts:/820064854730697873', creation_time=1685457378100, experiment_id='820064854730697873', last_update_time=1685457378100, lifecycle_stage='active', name='Test', tags={}>"
      ]
     },
     "execution_count": 3,
     "metadata": {},
     "output_type": "execute_result"
    }
   ],
   "source": [
    "mlflow.set_experiment(\"Test\")"
   ]
  },
  {
   "cell_type": "code",
   "execution_count": 4,
   "id": "d904e9f7",
   "metadata": {},
   "outputs": [],
   "source": [
    "with mlflow.start_run():\n",
    "    mlflow.set_tag(\"mlflow.runName\", \"Segundo Teste\")\n",
    "    \n",
    "    mlflow.set_tag(\"experiment_type\", \"Aprendizado Supervisionado\")\n",
    "    mlflow.set_tag(\"dataset_name\", \"MNIST\")\n",
    "    \n",
    "    params = {\"learning_rate\": 0.01, \"batch_size\": 32}\n",
    "    mlflow.log_params(params)\n",
    "    mlflow.log_metric(\"accuracy\", 0.5)"
   ]
  },
  {
   "cell_type": "code",
   "execution_count": 5,
   "id": "56378b31",
   "metadata": {},
   "outputs": [],
   "source": [
    "mlflow.end_run()"
   ]
  },
  {
   "cell_type": "code",
   "execution_count": 5,
   "id": "cb71c7df",
   "metadata": {},
   "outputs": [],
   "source": [
    "path = 's3://oncase-monitor/projeto-teste/cliente-teste/classification/classificador_churn_teste/classificador_churn_teste.parquet'"
   ]
  },
  {
   "cell_type": "code",
   "execution_count": 7,
   "id": "0cddca4c",
   "metadata": {},
   "outputs": [
    {
     "data": {
      "text/plain": [
       "['s3:',\n",
       " '',\n",
       " 'oncase-monitor',\n",
       " 'projeto-teste',\n",
       " 'cliente-teste',\n",
       " 'classification',\n",
       " 'classificador_churn_teste',\n",
       " 'classificador_churn_teste.parquet']"
      ]
     },
     "execution_count": 7,
     "metadata": {},
     "output_type": "execute_result"
    }
   ],
   "source": [
    "path.split(\"/\")"
   ]
  },
  {
   "cell_type": "code",
   "execution_count": null,
   "id": "f433d49b",
   "metadata": {},
   "outputs": [],
   "source": []
  },
  {
   "cell_type": "code",
   "execution_count": null,
   "id": "5e73622b",
   "metadata": {},
   "outputs": [],
   "source": []
  }
 ],
 "metadata": {
  "kernelspec": {
   "display_name": "Python 3 (ipykernel)",
   "language": "python",
   "name": "python3"
  },
  "language_info": {
   "codemirror_mode": {
    "name": "ipython",
    "version": 3
   },
   "file_extension": ".py",
   "mimetype": "text/x-python",
   "name": "python",
   "nbconvert_exporter": "python",
   "pygments_lexer": "ipython3",
   "version": "3.9.16"
  }
 },
 "nbformat": 4,
 "nbformat_minor": 5
}
